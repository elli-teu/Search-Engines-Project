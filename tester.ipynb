{
 "cells": [
  {
   "cell_type": "code",
   "execution_count": 2,
   "metadata": {},
   "outputs": [],
   "source": [
    "import json\n",
    "from elasticsearch import Elasticsearch, helpers\n",
    "import os"
   ]
  },
  {
   "cell_type": "code",
   "execution_count": 4,
   "metadata": {},
   "outputs": [],
   "source": [
    "ADDRESS = \"https://129.151.196.60:9200\"\n",
    "API_KEY = \"Skp6QzNvNEJxUk1iRlJtSlNXYkU6LW1vWlhhNjhTRnlud1BlaDZxVEN5dw==\"\n",
    "INDEX = \"podcast_transcripts\"\n",
    "DATASET_FOLDER = \"../dataset_subset/\""
   ]
  },
  {
   "cell_type": "code",
   "execution_count": 14,
   "metadata": {},
   "outputs": [],
   "source": [
    "def execute_query(client, query, n=10):\n",
    "    return client.search(index=INDEX, body=query, size=n)\n",
    "\n",
    "def get_first_n_results(response, n=10):\n",
    "    results = []\n",
    "    for hit in response['hits']['hits'][:n]:\n",
    "        result = hit['_source']\n",
    "        results.append(result)\n",
    "    return results\n",
    "\n",
    "def read_test(client, n):\n",
    "    query = {\n",
    "            \"query\": {\n",
    "                \"match\": {\"transcript\": \"I like peanuts\"}\n",
    "            }\n",
    "        }\n",
    "    \n",
    "    resp = execute_query(client, query, n)\n",
    "\n",
    "    return get_first_n_results(resp, n)\n",
    "\n"
   ]
  },
  {
   "cell_type": "code",
   "execution_count": 18,
   "metadata": {},
   "outputs": [
    {
     "name": "stdout",
     "output_type": "stream",
     "text": [
      "[{'transcript': \" Two peanuts make you fat in a nutshell get it nutshell peanuts. Okay peanuts themselves. Do not make you fat really nothing inherently makes a person fat actually read a post earlier this week about belly fat and how there are at least ten factors that may increase belly fat. So again, it's hard to know whether peanuts themselves would actually lead to belly fat what we really need to look at is the quantity of food.\"}]\n"
     ]
    },
    {
     "name": "stderr",
     "output_type": "stream",
     "text": [
      "C:\\Users\\Simon\\AppData\\Local\\Temp\\ipykernel_17924\\1184915275.py:2: DeprecationWarning: Received 'size' via a specific parameter in the presence of a 'body' parameter, which is deprecated and will be removed in a future version. Instead, use only 'body' or only specific parameters.\n",
      "  return client.search(index=INDEX, body=query, size=n)\n"
     ]
    }
   ],
   "source": [
    "# Initialize Elasticsearch client\n",
    "client = Elasticsearch(ADDRESS, api_key=API_KEY, verify_certs=False, ssl_show_warn=False)\n",
    "resp = read_test(client, 1)\n",
    "print(resp)"
   ]
  },
  {
   "cell_type": "code",
   "execution_count": 22,
   "metadata": {},
   "outputs": [
    {
     "data": {
      "text/plain": [
       "ObjectApiResponse({'_index': 'podcast_transcripts', '_id': '2mI1XBqeo1WdX7rlirLh9t_112', '_version': 3, 'result': 'updated', '_shards': {'total': 2, 'successful': 2, 'failed': 0}, '_seq_no': 836853, '_primary_term': 1})"
      ]
     },
     "execution_count": 22,
     "metadata": {},
     "output_type": "execute_result"
    }
   ],
   "source": [
    "client.update(index=INDEX, id=\"2mI1XBqeo1WdX7rlirLh9t_112\", doc={\"podcast_id\" : 161001010})"
   ]
  },
  {
   "cell_type": "code",
   "execution_count": null,
   "metadata": {},
   "outputs": [],
   "source": []
  }
 ],
 "metadata": {
  "kernelspec": {
   "display_name": "Python 3",
   "language": "python",
   "name": "python3"
  },
  "language_info": {
   "codemirror_mode": {
    "name": "ipython",
    "version": 3
   },
   "file_extension": ".py",
   "mimetype": "text/x-python",
   "name": "python",
   "nbconvert_exporter": "python",
   "pygments_lexer": "ipython3",
   "version": "3.10.5"
  }
 },
 "nbformat": 4,
 "nbformat_minor": 2
}
